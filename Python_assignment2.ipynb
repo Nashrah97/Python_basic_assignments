{
 "cells": [
  {
   "cell_type": "markdown",
   "id": "658a58a7",
   "metadata": {},
   "source": [
    "1. What are the two values of the Boolean data type? How do you write them?\n",
    "\n",
    "Ans. The two values of the Boolean data type are'true' and 'false'. They are written as'True' and 'False'."
   ]
  },
  {
   "cell_type": "markdown",
   "id": "6f24db2c",
   "metadata": {},
   "source": [
    "2. What are the three different types of Boolean operators?\n",
    "\n",
    "Ans. The three different types of Boolean operators are:\n",
    "\n",
    " not     |    unary negation\n",
    "\n",
    " and     |    conditional AND\n",
    "\n",
    " or      |    conditional OR"
   ]
  },
  {
   "cell_type": "markdown",
   "id": "b7332b30",
   "metadata": {},
   "source": [
    "3. Make a list of each Boolean operator's truth table(i.e. every possible combination of Boolean values for the operator\n",
    "and what it evaluate).\n",
    "\n",
    "Ans. \n",
    "  \n",
    "  Truth table for conditional AND\n",
    "  \n",
    "   A    |    B   |  A AND B \n",
    "        \n",
    "   True |  True  |  True\n",
    "   \n",
    "   True |  False | False\n",
    "  \n",
    "  False |  True  | False\n",
    "  \n",
    "  False |  False | False\n",
    "  \n",
    "  It evaluate that  Output is 'True' if all conditions are 'True'. \n",
    "  \n",
    "  Truth table for conditional OR\n",
    "  \n",
    "   A    |    B   | A OR B  \n",
    "   \n",
    "   True |  True  |  True\n",
    "   \n",
    "   True |  False |  True\n",
    "  \n",
    "  False |  True  |  True\n",
    "  \n",
    "  False |  False | False\n",
    "  \n",
    "  It evaluate that Output is'True' if atleast one condition is 'True'.\n",
    "  \n",
    "  Truth table for unary negation\n",
    "  \n",
    "   A    |    NOT A \n",
    "   \n",
    "   True |    False\n",
    "  \n",
    "  False |    True\n",
    "  \n",
    "  It evaluate that Output is negation of condition,i.e. 'True' becomes 'False' and vice versa."
   ]
  },
  {
   "cell_type": "markdown",
   "id": "30077036",
   "metadata": {},
   "source": [
    "4. What are the values of the following expressions?\n",
    "\n",
    "-(5>4) and (3==5)\n",
    "\n",
    "-not(5>4)\n",
    "\n",
    "-(5>4) or (3==5)\n",
    "\n",
    "-not((5>4) or (3==5)\n",
    "\n",
    "-(True and True) and (True==False)\n",
    "\n",
    "-(not False) or (not True)"
   ]
  },
  {
   "cell_type": "markdown",
   "id": "c5342449",
   "metadata": {},
   "source": [
    "Ans. The values of the following expressions are:\n",
    "  \n",
    "  -(5>4) and (3==5)\n",
    "  \n",
    "  False\n",
    " \n",
    " -not(5>4)\n",
    "\n",
    "False\n",
    " \n",
    " -(5>4) or (3==5)\n",
    "  \n",
    "  True\n",
    "  \n",
    "  -not((5>4) or (3==5))\n",
    " \n",
    " False\n",
    " \n",
    " -(True and True) and (True==False)\n",
    "  \n",
    "  False\n",
    " \n",
    " -(not False) or (not True)\n",
    " \n",
    " True"
   ]
  },
  {
   "cell_type": "markdown",
   "id": "78390c64",
   "metadata": {},
   "source": [
    "5.What are the six comparison operators?"
   ]
  },
  {
   "cell_type": "code",
   "execution_count": 1,
   "id": "1876d026",
   "metadata": {},
   "outputs": [],
   "source": [
    "# Ans. The six comparison operators are:\n",
    "\n",
    "#   <     less than\n",
    "\n",
    "#   >      greater than\n",
    "\n",
    "#   <=    less than equals to\n",
    "\n",
    "#   >=     greater than equals to\n",
    "\n",
    "#   ==     equals to\n",
    "\n",
    "#   !=     not equals to"
   ]
  },
  {
   "cell_type": "markdown",
   "id": "d9474600",
   "metadata": {},
   "source": [
    "6. How would you tell the diffference between the equal to and assignment operators? Describe a condition and when you would use one.\n",
    "\n",
    "Ans. '==' is equals to operator that compares twwo values and evaluates to Boolean.\n",
    "    \n",
    "    '=' is the assignment operator that stores a value in a variable."
   ]
  },
  {
   "cell_type": "code",
   "execution_count": 1,
   "id": "78fdccf3",
   "metadata": {},
   "outputs": [
    {
     "name": "stdout",
     "output_type": "stream",
     "text": [
      "a and b are same\n"
     ]
    }
   ],
   "source": [
    "# e.g\n",
    "a=1 # Here we are assigning 1 in variable 'a'\n",
    "b=1 # Here we are assigning 1 in variable 'b'\n",
    "if a == b:  # Here we compares the values of variable 'a' and 'b'\n",
    "    print(\"a and b are same\")\n",
    "else:\n",
    "        print(\"a and b are not same\")"
   ]
  },
  {
   "cell_type": "markdown",
   "id": "02385b84",
   "metadata": {},
   "source": [
    "7. Identify the three blocks in this code:\n",
    "\n",
    "spam=0\n",
    "\n",
    "if spam ==10:\n",
    "\n",
    "print('eggs')\n",
    "\n",
    "if spam>5:\n",
    "\n",
    "print('bacon')\n",
    "\n",
    "else:\n",
    "\n",
    "print('ham')\n",
    "\n",
    "print('spam')\n",
    "\n",
    "print('spam')"
   ]
  },
  {
   "cell_type": "code",
   "execution_count": null,
   "id": "168e2cfc",
   "metadata": {},
   "outputs": [],
   "source": [
    "# Ans.\n",
    "spam=0\n",
    "if spam ==10:    # BLOCK1\n",
    "print('eggs')\n",
    "\n",
    "if spam>5:      # BLOCK2\n",
    "print('bacon')\n",
    "\n",
    "else:           #BLOCK3\n",
    "print('ham')\n",
    "print('spam')\n",
    "print('spam')"
   ]
  },
  {
   "cell_type": "markdown",
   "id": "4be71066",
   "metadata": {},
   "source": [
    "8. Write code that prints Hello if 1 is stored in spam, prints Howdy if 2 is stored in spam, and prints Greetings!\n",
    "if anything else stored in spam."
   ]
  },
  {
   "cell_type": "code",
   "execution_count": 29,
   "id": "b98583b3",
   "metadata": {},
   "outputs": [
    {
     "name": "stdout",
     "output_type": "stream",
     "text": [
      "Enter a number:3\n",
      "You have entered a number: 3\n",
      "Greetings!\n"
     ]
    }
   ],
   "source": [
    "\n",
    "spam = int(input(\"Enter a number:\"))\n",
    "print(f\"You have entered a number: {spam}\")\n",
    "\n",
    "if spam==1:\n",
    "    print(\"Hello\")\n",
    "elif spam==2:\n",
    "    print(\"Howdy\")\n",
    "else:\n",
    "    print('Greetings!')\n"
   ]
  },
  {
   "cell_type": "markdown",
   "id": "63729146",
   "metadata": {},
   "source": [
    "9.If your program is stuck in an endless loop, what keys you'll press?\n",
    "\n",
    "Ans. If program is stuck in an endless loop, we'll press ctrl+C. "
   ]
  },
  {
   "cell_type": "markdown",
   "id": "e4386277",
   "metadata": {},
   "source": [
    "10. How can you tell the difference between break and continue?\n",
    "\n",
    "Ans. Break completely stops the loop and start execution outside the loop.\n",
    "     \n",
    "     \n",
    "     Continue skips all the statement after \"continue\" keyword and move execution to the start of loop."
   ]
  },
  {
   "cell_type": "code",
   "execution_count": 12,
   "id": "61019c77",
   "metadata": {},
   "outputs": [
    {
     "name": "stdout",
     "output_type": "stream",
     "text": [
      "1\n",
      "Still in loop\n",
      "2\n",
      "Still in loop\n",
      "3\n",
      "Still in loop\n",
      "4\n",
      "Still in loop\n",
      "5\n",
      "Still in loop\n",
      "6\n",
      "Still in loop\n",
      "Now outside the loop\n"
     ]
    }
   ],
   "source": [
    "# Use of break\n",
    "\n",
    "for i in range(1,10):\n",
    "    if i==7:  # As soon as i becomes equlas to 7, break completely stops the loop and start execution outside the loop\n",
    "        break\n",
    "    print(i) \n",
    "    print(\"Still in loop\")\n",
    "print(\"Now outside the loop\")"
   ]
  },
  {
   "cell_type": "code",
   "execution_count": 11,
   "id": "84490abb",
   "metadata": {},
   "outputs": [
    {
     "name": "stdout",
     "output_type": "stream",
     "text": [
      "1\n",
      "2\n",
      "3\n",
      "4\n",
      "5\n",
      "6\n",
      "8\n",
      "9\n"
     ]
    }
   ],
   "source": [
    "# Use of continue\n",
    "\n",
    "for i in range(1,10):    \n",
    "    if i==7:  # As soon as i becomes equlas to 7, continue skips all the statement after \"continue\" keyword  \n",
    "        continue    # and move execution to the start of loop\n",
    "    print(i) \n",
    "    "
   ]
  },
  {
   "cell_type": "markdown",
   "id": "8ed604c9",
   "metadata": {},
   "source": [
    "11. In a for loop, what is the difference between range(10), range(0,10), range(0,10,1)?"
   ]
  },
  {
   "cell_type": "code",
   "execution_count": 3,
   "id": "b4ccaaae",
   "metadata": {},
   "outputs": [
    {
     "name": "stdout",
     "output_type": "stream",
     "text": [
      "0\n",
      "1\n",
      "2\n",
      "3\n",
      "4\n",
      "5\n",
      "6\n",
      "7\n",
      "8\n",
      "9\n",
      "**********\n",
      "0\n",
      "1\n",
      "2\n",
      "3\n",
      "4\n",
      "5\n",
      "6\n",
      "7\n",
      "8\n",
      "9\n",
      "**********\n",
      "0\n",
      "1\n",
      "2\n",
      "3\n",
      "4\n",
      "5\n",
      "6\n",
      "7\n",
      "8\n",
      "9\n",
      "**********\n"
     ]
    }
   ],
   "source": [
    "# Ans.\n",
    "for i in range(10):\n",
    "    print(i)\n",
    "print(\"**********\")\n",
    "\n",
    "for i in range(0,10):\n",
    "    print(i)\n",
    "print(\"**********\")\n",
    "\n",
    "for i in range(0,10,1):\n",
    "    print(i)\n",
    "print(\"**********\")\n"
   ]
  },
  {
   "cell_type": "markdown",
   "id": "1e25ef4e",
   "metadata": {},
   "source": [
    "From the above output we can conclude that they all do same thing. \n",
    "\n",
    "- The range(10); the lower bond is not mentioned but it take 0 by default; this range will call from 0 to 10(but not including the 10)\n",
    "\n",
    "- The range(0,10); the upper bond is 10 and lower bondis 0; this range will call from 0 to 10(but not including the 10)\n",
    "\n",
    "- The range(0,10,1); the upper bond is 10 and lower bondis 0; this range will call from 0 to 10(but not including the 10) and tell loop to increase by 1 step in each iteration"
   ]
  },
  {
   "cell_type": "markdown",
   "id": "aee2d682",
   "metadata": {},
   "source": [
    "12. Write a short program that prints the numbers 1 to 10 using a for loop. Then write an equivalent program that prints\n",
    "the numbers 1 to 10 using while loop."
   ]
  },
  {
   "cell_type": "code",
   "execution_count": 16,
   "id": "8362669b",
   "metadata": {},
   "outputs": [
    {
     "name": "stdout",
     "output_type": "stream",
     "text": [
      "for loop\n",
      "1\n",
      "2\n",
      "3\n",
      "4\n",
      "5\n",
      "6\n",
      "7\n",
      "8\n",
      "9\n",
      "10\n",
      "while loop\n",
      "1\n",
      "2\n",
      "3\n",
      "4\n",
      "5\n",
      "6\n",
      "7\n",
      "8\n",
      "9\n",
      "10\n"
     ]
    }
   ],
   "source": [
    "Ans.\n",
    "# Using for loop\n",
    "print(\"for loop\")\n",
    "for i in range(1,11):\n",
    "    print(i)\n",
    "    \n",
    "    \n",
    "# Using while loop\n",
    "print(\"while loop\")\n",
    "a=0\n",
    "while a<=9:\n",
    "    a=a+1\n",
    "    print(a)"
   ]
  },
  {
   "cell_type": "markdown",
   "id": "8f57e335",
   "metadata": {},
   "source": [
    "13. If you had a function named bacon() inside a module named spam, how would you call it after importing spam?\n",
    "\n",
    "Ans. This function can be called with \n",
    "     spam.bacon()"
   ]
  }
 ],
 "metadata": {
  "kernelspec": {
   "display_name": "Python 3 (ipykernel)",
   "language": "python",
   "name": "python3"
  },
  "language_info": {
   "codemirror_mode": {
    "name": "ipython",
    "version": 3
   },
   "file_extension": ".py",
   "mimetype": "text/x-python",
   "name": "python",
   "nbconvert_exporter": "python",
   "pygments_lexer": "ipython3",
   "version": "3.9.12"
  }
 },
 "nbformat": 4,
 "nbformat_minor": 5
}
