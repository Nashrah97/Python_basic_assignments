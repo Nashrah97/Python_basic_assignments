{
 "cells": [
  {
   "cell_type": "raw",
   "id": "e52160e8",
   "metadata": {},
   "source": [
    "1. What are the two values of the Boolean data type? How do you write them?\n",
    "Ans. The two values of the Boolean data type are'true' and 'false'. They are written as'True' and 'False'."
   ]
  },
  {
   "cell_type": "raw",
   "id": "5b82c3b8",
   "metadata": {},
   "source": [
    "2. What are the three different types of Boolean operators?\n",
    "Ans. The three different types of Boolean operators are:\n",
    " not     |    unary negation\n",
    " and     |    conditional AND\n",
    " or      |    conditional OR"
   ]
  },
  {
   "cell_type": "raw",
   "id": "23eea484",
   "metadata": {},
   "source": [
    "3. Make a list of each Boolean operator's truth table(i.e. every possible combination of Boolean values for the operator\n",
    "and what it evaluate).\n",
    "Ans. \n",
    "  Truth table for conditional AND\n",
    "   A    |    B   | A AND B \n",
    "   True |  True  |  True\n",
    "   True |  False | False\n",
    "  False |  True  | False\n",
    "  False |  False | False\n",
    "  It evaluate that  Output is 'True' if all conditions are 'True'. \n",
    "  \n",
    "  Truth table for conditional OR\n",
    "   A    |    B   | A OR B  \n",
    "   True |  True  |  True\n",
    "   True |  False |  True\n",
    "  False |  True  |  True\n",
    "  False |  False | False\n",
    "  It evaluate that Output is'True' if atleast one condition is 'True'.\n",
    "  \n",
    "  Truth table for unary negation\n",
    "   A    |    NOT A \n",
    "   True |    False\n",
    "  False |    True\n",
    "  It evaluate that Output is negation of condition,i.e. 'True' becomes 'False' and vice versa."
   ]
  },
  {
   "cell_type": "raw",
   "id": "95874cea",
   "metadata": {},
   "source": [
    "4. What are the values of the following expressions?\n",
    "-(5>4) and (3==5)\n",
    "-not(5>4)\n",
    "-(5>4) or (3==5)\n",
    "-not((5>4) or (3==5)\n",
    "-(True and True) and (True==False)\n",
    "-(not False) or (not True)"
   ]
  },
  {
   "cell_type": "raw",
   "id": "bfabfed1",
   "metadata": {},
   "source": [
    "Ans. The values of the following expressions are:\n",
    "  -(5>4) and (3==5)\n",
    "  False\n",
    "  -not(5>4)\n",
    "  False\n",
    "  -(5>4) or (3==5)\n",
    "  True\n",
    "  -not((5>4) or (3==5))\n",
    "  False\n",
    "  -(True and True) and (True==False)\n",
    "  False\n",
    "  -(not False) or (not True)\n",
    "  True"
   ]
  },
  {
   "cell_type": "raw",
   "id": "e92641c9",
   "metadata": {},
   "source": [
    "5.What are the six comparison operators?"
   ]
  },
  {
   "cell_type": "raw",
   "id": "a2d43d38",
   "metadata": {},
   "source": [
    "Ans. The six comparison operators are:\n",
    " <   |   less than\n",
    " >   |   greater than\n",
    " <=  |   less than equals to\n",
    " >=  |   greater than equals to\n",
    " ==  |   equals to\n",
    " !=  |   not equals to"
   ]
  },
  {
   "cell_type": "raw",
   "id": "c4ba56cf",
   "metadata": {},
   "source": [
    "6. How dod you tell the diffference between the equal to and assignment operators? Describe a condition and when you would use one.\n",
    "Ans. '==' is equals to operator that compares twwo values and evaluates to Boolean.\n",
    "    '=' is the assignment operator that stores a value in a variable."
   ]
  },
  {
   "cell_type": "code",
   "execution_count": 1,
   "id": "78fdccf3",
   "metadata": {},
   "outputs": [
    {
     "name": "stdout",
     "output_type": "stream",
     "text": [
      "a and b are same\n"
     ]
    }
   ],
   "source": [
    "a=1 # Here we are assigning 1 in variable 'a'\n",
    "b=1 # Here we are assigning 1 in variable 'b'\n",
    "if a == b:  # Here we compares the values of variable 'a' and 'b'\n",
    "    print(\"a and b are same\")\n",
    "else:\n",
    "        print(\"a and b are not same\")"
   ]
  },
  {
   "cell_type": "raw",
   "id": "89b13b7f",
   "metadata": {},
   "source": [
    "7. Identify the three blocks in this code:\n",
    "spam=0\n",
    "if spam ==10:\n",
    "print('eggs')\n",
    "if spam>5:\n",
    "print('bacon')\n",
    "else:\n",
    "print('ham')\n",
    "print('spam')\n",
    "print('spam')"
   ]
  },
  {
   "cell_type": "code",
   "execution_count": null,
   "id": "168e2cfc",
   "metadata": {},
   "outputs": [],
   "source": [
    "Ans.\n",
    "spam=0\n",
    "if spam ==10:    # BLOCK1\n",
    "print('eggs')\n",
    "\n",
    "if spam>5:      # BLOCK2\n",
    "print('bacon')\n",
    "\n",
    "else:           #BLOCK3\n",
    "print('ham')\n",
    "print('spam')\n",
    "print('spam')"
   ]
  },
  {
   "cell_type": "raw",
   "id": "86bfecfc",
   "metadata": {},
   "source": [
    "8. Write code that prints Hello if 1 is stored in spam, prints Howdy if 2 is stored in spam, and prints Greetings!\n",
    "if anything else stored in spam."
   ]
  },
  {
   "cell_type": "code",
   "execution_count": 29,
   "id": "b98583b3",
   "metadata": {},
   "outputs": [
    {
     "name": "stdout",
     "output_type": "stream",
     "text": [
      "Enter a number:3\n",
      "You have entered a number: 3\n",
      "Greetings!\n"
     ]
    }
   ],
   "source": [
    "\n",
    "spam = int(input(\"Enter a number:\"))\n",
    "print(f\"You have entered a number: {spam}\")\n",
    "\n",
    "if spam==1:\n",
    "    print(\"Hello\")\n",
    "elif spam==2:\n",
    "    print(\"Howdy\")\n",
    "else:\n",
    "    print('Greetings!')\n"
   ]
  },
  {
   "cell_type": "raw",
   "id": "9f959354",
   "metadata": {},
   "source": [
    "9.If your program is stuck in an endless loop, what keys you'll press?\n",
    "Ans. If program is stuck in an endless loop, we'll press ctrl+C. "
   ]
  },
  {
   "cell_type": "raw",
   "id": "61164deb",
   "metadata": {},
   "source": [
    "10. How can you tell the difference between break and continue?\n",
    "Ans. Break completely stops the loop and start execution outside the loop.\n",
    "     Continue skips all the statement after \"continue\" keyword and move execution to the start of loop."
   ]
  },
  {
   "cell_type": "code",
   "execution_count": 12,
   "id": "61019c77",
   "metadata": {},
   "outputs": [
    {
     "name": "stdout",
     "output_type": "stream",
     "text": [
      "1\n",
      "Still in loop\n",
      "2\n",
      "Still in loop\n",
      "3\n",
      "Still in loop\n",
      "4\n",
      "Still in loop\n",
      "5\n",
      "Still in loop\n",
      "6\n",
      "Still in loop\n",
      "Now outside the loop\n"
     ]
    }
   ],
   "source": [
    "# Use of break\n",
    "\n",
    "for i in range(1,10):\n",
    "    if i==7:  # As soon as i becomes equlas to 7, break completely stops the loop and start execution outside the loop\n",
    "        break\n",
    "    print(i) \n",
    "    print(\"Still in loop\")\n",
    "print(\"Now outside the loop\")"
   ]
  },
  {
   "cell_type": "code",
   "execution_count": 11,
   "id": "84490abb",
   "metadata": {},
   "outputs": [
    {
     "name": "stdout",
     "output_type": "stream",
     "text": [
      "1\n",
      "2\n",
      "3\n",
      "4\n",
      "5\n",
      "6\n",
      "8\n",
      "9\n"
     ]
    }
   ],
   "source": [
    "# Use of continue\n",
    "\n",
    "for i in range(1,10):    \n",
    "    if i==7:  # As soon as i becomes equlas to 7, continue skips all the statement after \"continue\" keyword  \n",
    "        continue    # and move execution to the start of loop\n",
    "    print(i) \n",
    "    "
   ]
  },
  {
   "cell_type": "raw",
   "id": "8d57f317",
   "metadata": {},
   "source": [
    "11. In a for loop, what is the difference between range(10), range(0,10), range(0,10,1)?"
   ]
  },
  {
   "cell_type": "code",
   "execution_count": 3,
   "id": "e5efc2cf",
   "metadata": {},
   "outputs": [
    {
     "name": "stdout",
     "output_type": "stream",
     "text": [
      "0\n",
      "1\n",
      "2\n",
      "3\n",
      "4\n",
      "5\n",
      "6\n",
      "7\n",
      "8\n",
      "9\n",
      "**********\n",
      "0\n",
      "1\n",
      "2\n",
      "3\n",
      "4\n",
      "5\n",
      "6\n",
      "7\n",
      "8\n",
      "9\n",
      "**********\n",
      "0\n",
      "1\n",
      "2\n",
      "3\n",
      "4\n",
      "5\n",
      "6\n",
      "7\n",
      "8\n",
      "9\n",
      "**********\n"
     ]
    }
   ],
   "source": [
    "for i in range(10):\n",
    "    print(i)\n",
    "print(\"**********\")\n",
    "\n",
    "for i in range(0,10):\n",
    "    print(i)\n",
    "print(\"**********\")\n",
    "\n",
    "for i in range(0,10,1):\n",
    "    print(i)\n",
    "print(\"**********\")\n"
   ]
  },
  {
   "cell_type": "raw",
   "id": "3ea07f89",
   "metadata": {},
   "source": [
    "From the above output we can conclude that they all do same thing. \n",
    "-The range(10); the lower bond is not mentioned but it take 0 by default; this range will call from 0 to 10(but not including the 10)\n",
    "- The range(0,10); the upper bond is 10 and lower bondis 0; this range will call from 0 to 10(but not including the 10)\n",
    "- The range(0,10,1); the upper bond is 10 and lower bondis 0; this range will call from 0 to 10(but not including the 10) and tell loop to increase by 1 step in each iteration"
   ]
  },
  {
   "cell_type": "raw",
   "id": "5c744c66",
   "metadata": {},
   "source": [
    "12. Write a short program that prints the numbers 1 to 10 using a for loop. Then write an equivalent program that prints\n",
    "the numbers 1 to 10 using while loop."
   ]
  },
  {
   "cell_type": "code",
   "execution_count": 16,
   "id": "8362669b",
   "metadata": {},
   "outputs": [
    {
     "name": "stdout",
     "output_type": "stream",
     "text": [
      "for loop\n",
      "1\n",
      "2\n",
      "3\n",
      "4\n",
      "5\n",
      "6\n",
      "7\n",
      "8\n",
      "9\n",
      "10\n",
      "while loop\n",
      "1\n",
      "2\n",
      "3\n",
      "4\n",
      "5\n",
      "6\n",
      "7\n",
      "8\n",
      "9\n",
      "10\n"
     ]
    }
   ],
   "source": [
    "# Using for loop\n",
    "print(\"for loop\")\n",
    "for i in range(1,11):\n",
    "    print(i)\n",
    "    \n",
    "    \n",
    "# Using while loop\n",
    "print(\"while loop\")\n",
    "a=0\n",
    "while a<=9:\n",
    "    a=a+1\n",
    "    print(a)"
   ]
  },
  {
   "cell_type": "raw",
   "id": "c4efb36c",
   "metadata": {},
   "source": [
    "13. If you had a function named bacon() inside a module named spam, how would you call it after importing spam?\n",
    "Ans. This function can be called with \n",
    "     spam.bacon()"
   ]
  },
  {
   "cell_type": "code",
   "execution_count": null,
   "id": "220efe46",
   "metadata": {},
   "outputs": [],
   "source": [
    "range(0,10,1)"
   ]
  }
 ],
 "metadata": {
  "kernelspec": {
   "display_name": "Python 3 (ipykernel)",
   "language": "python",
   "name": "python3"
  },
  "language_info": {
   "codemirror_mode": {
    "name": "ipython",
    "version": 3
   },
   "file_extension": ".py",
   "mimetype": "text/x-python",
   "name": "python",
   "nbconvert_exporter": "python",
   "pygments_lexer": "ipython3",
   "version": "3.9.12"
  }
 },
 "nbformat": 4,
 "nbformat_minor": 5
}
