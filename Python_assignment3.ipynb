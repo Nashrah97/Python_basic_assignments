{
 "cells": [
  {
   "cell_type": "markdown",
   "id": "6d4f9ca6",
   "metadata": {},
   "source": [
    "1. Why are functions advantageous to have in your programs?"
   ]
  },
  {
   "cell_type": "markdown",
   "id": "5a71397f",
   "metadata": {},
   "source": [
    "Ans. Functions reduce the need for duplicate code. This makes program shorter, easier to read and easier to update. The main adavantage of functions is code reuseability. "
   ]
  },
  {
   "cell_type": "markdown",
   "id": "a3c35301",
   "metadata": {},
   "source": [
    "2. When dose a code in a function run: when it's specified or when it's called?"
   ]
  },
  {
   "cell_type": "markdown",
   "id": "682c6222",
   "metadata": {},
   "source": [
    "Ans. The code in a function executes when the function is called, not when the function is specified."
   ]
  },
  {
   "cell_type": "markdown",
   "id": "37b4c764",
   "metadata": {},
   "source": [
    "3. What statement creates a function?"
   ]
  },
  {
   "cell_type": "markdown",
   "id": "4301768c",
   "metadata": {},
   "source": [
    "Ans. The 'def' statement defines/creates a function."
   ]
  },
  {
   "cell_type": "markdown",
   "id": "4f0a8fc0",
   "metadata": {},
   "source": [
    "4. What is the difference between a function and a function call?"
   ]
  },
  {
   "cell_type": "markdown",
   "id": "14285b48",
   "metadata": {},
   "source": [
    "Ans. A function is procedure to achieve a particular result. While function call is using this function to do a particular task any point in program is called as function call."
   ]
  },
  {
   "cell_type": "markdown",
   "id": "a9048a32",
   "metadata": {},
   "source": [
    "5. Who many global scopes are there in a python program? How many local scopes?"
   ]
  },
  {
   "cell_type": "markdown",
   "id": "c84577fc",
   "metadata": {},
   "source": [
    "Ans. There is one global scope and a local scope is created whenever a function is called."
   ]
  },
  {
   "cell_type": "markdown",
   "id": "4884222c",
   "metadata": {},
   "source": [
    "6. What happens to variables in a local scope when the function call returns?"
   ]
  },
  {
   "cell_type": "markdown",
   "id": "a87415b4",
   "metadata": {},
   "source": [
    "Ans. When a function returns, the local scope is destroyed and all the varaiables in it are forgotten."
   ]
  },
  {
   "cell_type": "markdown",
   "id": "6855f5c9",
   "metadata": {},
   "source": [
    "7. What is the concept of a return value? Is it possible to have a return value in an expression?"
   ]
  },
  {
   "cell_type": "markdown",
   "id": "37496edb",
   "metadata": {},
   "source": [
    "Ans. A return value is the value that a function call evaluates to. Like any value, a return value can be used as part of an expression. "
   ]
  },
  {
   "cell_type": "markdown",
   "id": "8f74722e",
   "metadata": {},
   "source": [
    "8. If a function does not have a return statement, What is the return value of a call to that function?"
   ]
  },
  {
   "cell_type": "markdown",
   "id": "181f5a72",
   "metadata": {},
   "source": [
    "Ans. If there is no return statement for a function, its return value is None"
   ]
  },
  {
   "cell_type": "markdown",
   "id": "4dcf959d",
   "metadata": {},
   "source": [
    "9. How do you make a function variable refer to the global variable?"
   ]
  },
  {
   "cell_type": "markdown",
   "id": "bc4ea476",
   "metadata": {},
   "source": [
    "Ans. A global statement will force a variable in a function to refer to the global variable. If you want to refer to a global variable in a function, you can use the 'global' keyword to declare which variable are global."
   ]
  },
  {
   "cell_type": "markdown",
   "id": "93f04cf2",
   "metadata": {},
   "source": [
    "10. What is the data type of None?"
   ]
  },
  {
   "cell_type": "markdown",
   "id": "b4fe1280",
   "metadata": {},
   "source": [
    "Ans. The data type of None is 'None Type'"
   ]
  },
  {
   "cell_type": "markdown",
   "id": "9cf875d5",
   "metadata": {},
   "source": [
    "11. What dose the sentence import areallyourpetsnamederic do?"
   ]
  },
  {
   "cell_type": "markdown",
   "id": "89dd4b08",
   "metadata": {},
   "source": [
    "Ans. The import statement imports a module named areallyourpetsnamederic."
   ]
  },
  {
   "cell_type": "markdown",
   "id": "1133d89e",
   "metadata": {},
   "source": [
    "12. If you had a bacon() feature in a spam module, what would you call it after importing spam? "
   ]
  },
  {
   "cell_type": "markdown",
   "id": "43435c4d",
   "metadata": {},
   "source": [
    "Ans. This function can be called with spam.bacon()"
   ]
  },
  {
   "cell_type": "markdown",
   "id": "4124c19b",
   "metadata": {},
   "source": [
    "13. What can you do to save a programme from crashing if it encounters an error?"
   ]
  },
  {
   "cell_type": "markdown",
   "id": "14e53796",
   "metadata": {},
   "source": [
    "Ans. Place the line of code that might cause an error in a 'try' clause and use except 'block' to handle the error."
   ]
  },
  {
   "cell_type": "markdown",
   "id": "ffb4971d",
   "metadata": {},
   "source": [
    "14. What is the purpose of the try clause? What is the procedure of the except clause?"
   ]
  },
  {
   "cell_type": "markdown",
   "id": "8c764359",
   "metadata": {},
   "source": [
    "Ans. The code that could potentially cause an error goes in the 'try' clause. The code that executes if an error happens goes in the 'except' clause."
   ]
  }
 ],
 "metadata": {
  "kernelspec": {
   "display_name": "Python 3 (ipykernel)",
   "language": "python",
   "name": "python3"
  },
  "language_info": {
   "codemirror_mode": {
    "name": "ipython",
    "version": 3
   },
   "file_extension": ".py",
   "mimetype": "text/x-python",
   "name": "python",
   "nbconvert_exporter": "python",
   "pygments_lexer": "ipython3",
   "version": "3.9.12"
  }
 },
 "nbformat": 4,
 "nbformat_minor": 5
}
