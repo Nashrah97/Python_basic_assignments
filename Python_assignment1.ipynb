{
 "cells": [
  {
   "cell_type": "markdown",
   "id": "9b28498f",
   "metadata": {},
   "source": [
    "1. In the below elements which of them are values or an expression? e.g:- values can be integer or string and expression will be mathematical operators. "
   ]
  },
  {
   "cell_type": "markdown",
   "id": "33fe1d8e",
   "metadata": {},
   "source": [
    "Ans.\n",
    "\n",
    "The values are \n",
    "\n",
    "'hello'\n",
    "\n",
    "6\n",
    "\n",
    "The expression are \n",
    "\n",
    "-\n",
    "\n",
    "/\n",
    "\n",
    "+"
   ]
  },
  {
   "cell_type": "markdown",
   "id": "316d6121",
   "metadata": {},
   "source": [
    "2. What is the difference between string and variable?"
   ]
  },
  {
   "cell_type": "markdown",
   "id": "bb0e804e",
   "metadata": {},
   "source": [
    "Ans.\n",
    "\n",
    "A string is a sequence of one or more characters like letters, numbers and symbol. String is write within single quotes (') \n",
    "\n",
    "or double quotes(\"). String is one of the type of information that store in a variable.\n",
    "\n",
    "A variable is use to store of information.\n",
    "\n",
    "e.g:- a= \"9@sam\"\n",
    "\n",
    "where \"9@sam\" is string \n",
    "\n",
    "'a' is variable"
   ]
  },
  {
   "cell_type": "markdown",
   "id": "f248cae7",
   "metadata": {},
   "source": [
    "3. Describe three different data types."
   ]
  },
  {
   "cell_type": "markdown",
   "id": "3e329964",
   "metadata": {},
   "source": [
    "Ans.\n",
    "1. Integer- Integer contains positive or negative whole numbers. There is no limit how long an integer value can be.\n",
    "\n",
    " For example- 2,-3,10,225\n",
    "\n",
    "2. Float- Float is a number specified by a decimal point. \n",
    "\n",
    " For example- 22.3,3.14,-98.36,4.21\n",
    "\n",
    "3. Complex numbers- Complex number is specified as (real part)+(imaginary part)\n",
    "\n",
    " For example- 2+3j"
   ]
  },
  {
   "cell_type": "markdown",
   "id": "6e8d3377",
   "metadata": {},
   "source": [
    "4. What is an expression made up of? What do all expression do? "
   ]
  },
  {
   "cell_type": "markdown",
   "id": "855d8e49",
   "metadata": {},
   "source": [
    "Ans.\n",
    "- A combination of operands and operators is called an expression. The expression perform mathematical operations as per the operators.\n",
    "\n",
    "e.g:\n",
    "\n",
    "5*9\n",
    "\n",
    "where '5' and '9' are operand and '*' is the multiplication operator"
   ]
  },
  {
   "cell_type": "markdown",
   "id": "bad1a050",
   "metadata": {},
   "source": [
    "5. This assignment statements, like spam=10. What is the difference between an expression and a statement? "
   ]
  },
  {
   "cell_type": "markdown",
   "id": "7b79b879",
   "metadata": {},
   "source": [
    "Ans.\n",
    "- A statement is an instruction that python can execute e.g spam=10 is an assignment statement, where spam is variable name\n",
    "\n",
    "and 10 is its value.\n",
    "\n",
    "- A combination of operands and operators is called an expression. The expression perform mathematical operations as per \n",
    "\n",
    "the operators.e.g:\n",
    "\n",
    "5*9\n",
    "\n",
    "where '5' and '9' are operand and '*' is the multiplication operator\n",
    "\n",
    "- A statement is used for creating variables or displaying values\n",
    "\n",
    "e.g: x=3\n",
    "\n",
    "output:3\n",
    "\n",
    "- The expression produces value after being interpreted by the interpreter.\n",
    "\n",
    "e.g: x=9+7\n",
    "\n",
    "output: 16"
   ]
  },
  {
   "cell_type": "markdown",
   "id": "99e2f582",
   "metadata": {},
   "source": [
    "6. After running the following code, what does the variable bacon contain?\n",
    "\n",
    "bacon=22\n",
    "\n",
    "bacon+1"
   ]
  },
  {
   "cell_type": "code",
   "execution_count": 3,
   "id": "9c6d4f68",
   "metadata": {},
   "outputs": [
    {
     "name": "stdout",
     "output_type": "stream",
     "text": [
      "The value of bacon is 22\n"
     ]
    }
   ],
   "source": [
    "bacon=22\n",
    "bacon+1\n",
    "# The value of variable bacon is 22 because the value of expression bacon+1 didn't assigned in bacon"
   ]
  },
  {
   "cell_type": "markdown",
   "id": "7c4d5ea7",
   "metadata": {},
   "source": [
    "7. What should the values of the following two terms be?\n",
    "\n",
    "'spam' + 'spamspam'\n",
    "\n",
    "'spam'*3"
   ]
  },
  {
   "cell_type": "markdown",
   "id": "6dd1728e",
   "metadata": {},
   "source": [
    "Ans. The value of \n",
    "\n",
    "'spam' + 'spamspam' will be spamspamspam\n",
    "\n",
    "'spam'*3 will be spamspamspam "
   ]
  },
  {
   "cell_type": "markdown",
   "id": "72fb9224",
   "metadata": {},
   "source": [
    "8. Why is eggs a valid name while 100 is invalid?"
   ]
  },
  {
   "cell_type": "markdown",
   "id": "bf15b40b",
   "metadata": {},
   "source": [
    "Ans.\n",
    "- Python allow us to start variable names with either lower or uppercase letters or with an underscore sign(_). \n",
    "- Python also allow to use number in variable name but not the first character of variable name.\n",
    "- Python don't allow variable name with a number.\n",
    "And hence eggs is a valid name while 100 is invalid."
   ]
  },
  {
   "cell_type": "markdown",
   "id": "85fe4b11",
   "metadata": {},
   "source": [
    "9. What three funtions can be used to get the integer, floating-point number or string version of a value?"
   ]
  },
  {
   "cell_type": "markdown",
   "id": "b47c9193",
   "metadata": {},
   "source": [
    "Ans.\n",
    "\n",
    "The function to get\n",
    "- integer is int()\n",
    "- floating-point number is float()\n",
    "- string is str()"
   ]
  },
  {
   "cell_type": "markdown",
   "id": "a88f2f8a",
   "metadata": {},
   "source": [
    "10. Why does this expression cause an error? How can you fix it?\n",
    "'I have eaten'+99+'burrritos'"
   ]
  },
  {
   "cell_type": "markdown",
   "id": "69819743",
   "metadata": {},
   "source": [
    "Ans.\n",
    "\n",
    "'I have eaten'+99+'burrritos'\n",
    "\n",
    "The above expression cause an error because different data type can't be add i.e str+int+str\n",
    "\n",
    "hence must need to convert integer 99 into string to fix it as follows\n",
    "\n",
    "'I have eaten'+'99'+'burrritos'"
   ]
  }
 ],
 "metadata": {
  "kernelspec": {
   "display_name": "Python 3 (ipykernel)",
   "language": "python",
   "name": "python3"
  },
  "language_info": {
   "codemirror_mode": {
    "name": "ipython",
    "version": 3
   },
   "file_extension": ".py",
   "mimetype": "text/x-python",
   "name": "python",
   "nbconvert_exporter": "python",
   "pygments_lexer": "ipython3",
   "version": "3.9.12"
  }
 },
 "nbformat": 4,
 "nbformat_minor": 5
}
