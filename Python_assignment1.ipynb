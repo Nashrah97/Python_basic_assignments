{
 "cells": [
  {
   "cell_type": "raw",
   "id": "b09ea2c3",
   "metadata": {},
   "source": [
    "1. In the below elements which of them are values or an expression? e.g:- values can be integer or string and expression will be mathematical operators. "
   ]
  },
  {
   "cell_type": "raw",
   "id": "1cda55c8",
   "metadata": {},
   "source": [
    "Ans) \n",
    "The values are \n",
    "'hello'\n",
    "6\n",
    "The expression are \n",
    "-\n",
    "/\n",
    "+"
   ]
  },
  {
   "cell_type": "markdown",
   "id": "316d6121",
   "metadata": {},
   "source": [
    "2. What is the difference between string and variable?"
   ]
  },
  {
   "cell_type": "raw",
   "id": "0d583c2d",
   "metadata": {},
   "source": [
    "Ans)\n",
    "A string is a sequence of one or more characters like letters, numbers and symbol. String is write within single quotes (') or double quotes(\"). String is one of the type of information that store in a variable.\n",
    "A variable is use to store of information.\n",
    "e.g:- a= \"9@sam\"\n",
    "where \"9@sam\" is string \n",
    "'a' is variable"
   ]
  },
  {
   "cell_type": "raw",
   "id": "58fb6885",
   "metadata": {},
   "source": [
    "3. Describe three different data types."
   ]
  },
  {
   "cell_type": "raw",
   "id": "88c025c0",
   "metadata": {},
   "source": [
    "1. Integer- Integer contains positive or negative whole numbers. There is no limit how lomg an integer value can be.\n",
    "For example- 2,-3,10,225\n",
    "2. Float- Float is a number specified by a decimal point. \n",
    "For example- 22.3,3.14,-98.36,4.21\n",
    "3. Complex numbers- Complex number is specified as (real part)+(imaginary part)\n",
    "For example- 2+3j"
   ]
  },
  {
   "cell_type": "raw",
   "id": "4190f044",
   "metadata": {},
   "source": [
    "4. What is an expression made up of? What do all expression do? "
   ]
  },
  {
   "cell_type": "raw",
   "id": "5cf817ef",
   "metadata": {},
   "source": [
    "- A combination of operands and operators is called an expression. The expression perform mathematical operations as per the operators.\n",
    "e.g:\n",
    "5*9\n",
    "where '5' and '9' are operand and '*' is the multiplication operator"
   ]
  },
  {
   "cell_type": "raw",
   "id": "1deb2b8f",
   "metadata": {},
   "source": [
    "5. This assignment statements, like spam=10. What is the difference between an expression and a statement? "
   ]
  },
  {
   "cell_type": "raw",
   "id": "f6331ac2",
   "metadata": {},
   "source": [
    "-A statement is an instruction that python can execute e.g spam=10 is an assignment statement, where spam is variable name\n",
    "and 10 is its value.\n",
    "-A combination of operands and operators is called an expression. The expression perform mathematical operations as per the operators.e.g:\n",
    "5*9\n",
    "where '5' and '9' are operand and '*' is the multiplication operator\n",
    "- A statement is used for creating variables or displaying values\n",
    "e.g: x=3\n",
    "output:3\n",
    "-The expression produces value after being interpreted by the interpreter.\n",
    "e.g: x=9+7\n",
    "output: 16"
   ]
  },
  {
   "cell_type": "raw",
   "id": "bfe4e3c7",
   "metadata": {},
   "source": [
    "6. After running the following code, what does the variable bacon contain?\n",
    "bacon=22\n",
    "bacon+1"
   ]
  },
  {
   "cell_type": "code",
   "execution_count": 3,
   "id": "9c6d4f68",
   "metadata": {},
   "outputs": [
    {
     "name": "stdout",
     "output_type": "stream",
     "text": [
      "The value of bacon is 22\n"
     ]
    }
   ],
   "source": [
    "bacon=22\n",
    "bacon+1\n",
    "# The value of variable bacon is 22 because the value of expression bacon+1 didn't assigned in bacon"
   ]
  },
  {
   "cell_type": "raw",
   "id": "7ca25f4d",
   "metadata": {},
   "source": [
    "7. What should the values of the following two terms be?\n",
    "'spam' + 'spamspam'\n",
    "'spam'*3"
   ]
  },
  {
   "cell_type": "raw",
   "id": "cb3602f4",
   "metadata": {},
   "source": [
    "The value of \n",
    "'spam' + 'spamspam' will be spamspamspam\n",
    "'spam'*3 will be spamspamspam "
   ]
  },
  {
   "cell_type": "raw",
   "id": "30404fde",
   "metadata": {},
   "source": [
    "8. Why is eggs a valid name while 100 is invalid?"
   ]
  },
  {
   "cell_type": "raw",
   "id": "2b114ed1",
   "metadata": {},
   "source": [
    "-Python allow us to start variable names with either lower or uppercase letters or with an underscore sign(_). \n",
    "-Python also allow to use number in variable name but not the first character of variable name.\n",
    "-Python don't allow variable name with a number.\n",
    "And hence eggs is a valid name while 100 is invalid."
   ]
  },
  {
   "cell_type": "raw",
   "id": "8d82451f",
   "metadata": {},
   "source": [
    "9. What three funtions can be used to get the integer, floating-point number or string version of a value?"
   ]
  },
  {
   "cell_type": "raw",
   "id": "20b6e77f",
   "metadata": {},
   "source": [
    "The function to get\n",
    "-integer is int()\n",
    "-floating-point number is float()\n",
    "-string is str()"
   ]
  },
  {
   "cell_type": "raw",
   "id": "5da461ce",
   "metadata": {},
   "source": [
    "10. Why does this expression cause an error? How can you fix it?\n",
    "'I have eaten'+99+'burrritos'"
   ]
  },
  {
   "cell_type": "raw",
   "id": "119a2246",
   "metadata": {},
   "source": [
    "'I have eaten'+99+'burrritos'\n",
    "The above expression cause an error because different data type can't be add i.e str+int+str\n",
    "hence must need to convert integer 99 into string to fix it as follows\n",
    "'I have eaten'+'99'+'burrritos'"
   ]
  }
 ],
 "metadata": {
  "kernelspec": {
   "display_name": "Python 3 (ipykernel)",
   "language": "python",
   "name": "python3"
  },
  "language_info": {
   "codemirror_mode": {
    "name": "ipython",
    "version": 3
   },
   "file_extension": ".py",
   "mimetype": "text/x-python",
   "name": "python",
   "nbconvert_exporter": "python",
   "pygments_lexer": "ipython3",
   "version": "3.9.12"
  }
 },
 "nbformat": 4,
 "nbformat_minor": 5
}
