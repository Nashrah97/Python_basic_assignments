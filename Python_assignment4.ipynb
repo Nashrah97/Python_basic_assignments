{
 "cells": [
  {
   "cell_type": "markdown",
   "id": "ff7a76c6",
   "metadata": {},
   "source": [
    "1. What exactly is [ ]?"
   ]
  },
  {
   "cell_type": "markdown",
   "id": "db485d74",
   "metadata": {},
   "source": [
    "Ans. The empty list represented by [ ] is a list that contains no items. "
   ]
  },
  {
   "cell_type": "markdown",
   "id": "22454290",
   "metadata": {},
   "source": [
    "2. In a list of values stored in a variable called spam, how would you assign the value \"hello\" as the third value?\n",
    "(Assume[2,4,6,8,10] are in spam.)"
   ]
  },
  {
   "cell_type": "code",
   "execution_count": 1,
   "id": "4e14dc5a",
   "metadata": {},
   "outputs": [
    {
     "name": "stdout",
     "output_type": "stream",
     "text": [
      "List before assigning 'hello'\n",
      "[2, 4, 6, 8, 10]\n",
      "List after assigning 'hello' as the third value\n",
      "[2, 4, 'hello', 8, 10]\n"
     ]
    }
   ],
   "source": [
    "# Ans.\n",
    "spam = [2,4,6,8,10]\n",
    "print(\"List before assigning 'hello'\")\n",
    "print(spam)\n",
    "spam[2] = 'hello'        # List index start from zero\n",
    "print(\"List after assigning 'hello' as the third value\")\n",
    "print(spam)"
   ]
  },
  {
   "cell_type": "markdown",
   "id": "db48150c",
   "metadata": {},
   "source": [
    "Let's pretend the spam includes the list ['a','b','c','d'] for the next three queries."
   ]
  },
  {
   "cell_type": "markdown",
   "id": "60ef23b5",
   "metadata": {},
   "source": [
    "3. What is the value of spam[int(int('3'*2)/11)]?"
   ]
  },
  {
   "cell_type": "code",
   "execution_count": 1,
   "id": "3ff9d4fc",
   "metadata": {},
   "outputs": [
    {
     "name": "stdout",
     "output_type": "stream",
     "text": [
      "The value of spam[int(int('3'*2)/11)]: ?\n",
      "The value of int(int('3'*2)/11) : 3\n",
      "The value of: spam[int(int('3'*2)/11)] : spam[3] is d\n"
     ]
    }
   ],
   "source": [
    "# Ans.\n",
    "spam = ['a','b','c','d']\n",
    "print(f\"The value of spam[int(int('3'*2)/11)]: ?\")\n",
    "\n",
    "# '3'*2 is the string '33' which is then convert from string into the int()\n",
    "# int 33 then divide by 33, then answer of division is again convert into the int(in case if the division is in float)\n",
    "\n",
    "print(f\"The value of int(int('3'*2)/11) : {int(int('3'*2)/11)}\")\n",
    "\n",
    "# The answer of divsion is 3\n",
    "# spam[3] is 'd' as list index start from zero\n",
    "\n",
    "print(f\"The value of: spam[int(int('3'*2)/11)] : spam[{int(int('3'*2)/11)}] is {spam[int(int('3'*2)/11)]}\")\n",
    "\n"
   ]
  },
  {
   "cell_type": "markdown",
   "id": "85dfbf75",
   "metadata": {},
   "source": [
    "4. What is the value of spam[-1]?"
   ]
  },
  {
   "cell_type": "code",
   "execution_count": 3,
   "id": "67713b97",
   "metadata": {},
   "outputs": [
    {
     "name": "stdout",
     "output_type": "stream",
     "text": [
      "The value of spam[-1] is d\n"
     ]
    }
   ],
   "source": [
    "# Ans.\n",
    "spam = ['a','b','c','d']\n",
    "print(f\"The value of spam[-1] is {spam[-1]}\")  # list support negative index from right to left, starts with -1,-2 and so on"
   ]
  },
  {
   "cell_type": "markdown",
   "id": "0520d404",
   "metadata": {},
   "source": [
    "5. What is the value of spam[:2]?"
   ]
  },
  {
   "cell_type": "code",
   "execution_count": 8,
   "id": "f27c27b9",
   "metadata": {},
   "outputs": [
    {
     "name": "stdout",
     "output_type": "stream",
     "text": [
      "spam= ['a', 'b', 'c', 'd']\n",
      "spam[:2] = ['a', 'b']\n"
     ]
    }
   ],
   "source": [
    "# Ans.\n",
    "spam = ['a','b','c','d']\n",
    "print(f\"spam= {spam}\")\n",
    "print(f\"spam[:2] = {spam[:2]}\")  # returns all element in the list from 0 to 2; excluding 2"
   ]
  },
  {
   "cell_type": "markdown",
   "id": "bb728238",
   "metadata": {},
   "source": [
    "Let's pretended bacon has the list [3.14, 'cat', 11, 'cat', True] for the next three questions."
   ]
  },
  {
   "cell_type": "markdown",
   "id": "e3bd0281",
   "metadata": {},
   "source": [
    "6. What is the value of bacon.index('cat')?"
   ]
  },
  {
   "cell_type": "code",
   "execution_count": 13,
   "id": "0902ae4b",
   "metadata": {},
   "outputs": [
    {
     "name": "stdout",
     "output_type": "stream",
     "text": [
      "bacon= [3.14, 'cat', 11, 'cat', True]\n",
      "bacon.index('cat') is 1\n"
     ]
    }
   ],
   "source": [
    "# Ans.\n",
    "bacon = [3.14, 'cat', 11, 'cat', True]\n",
    "print(f\"bacon= {bacon}\")\n",
    "print(f\"bacon.index('cat') is {bacon.index('cat')}\")\n",
    "# index method returns the index of first occuerence of 'cat'"
   ]
  },
  {
   "cell_type": "markdown",
   "id": "6d139fd7",
   "metadata": {},
   "source": [
    "7. How does bacon.append(99) change the look of the list in bacon?"
   ]
  },
  {
   "cell_type": "code",
   "execution_count": 32,
   "id": "dffc81b5",
   "metadata": {},
   "outputs": [
    {
     "name": "stdout",
     "output_type": "stream",
     "text": [
      "bacon = [3.14, 'cat', 11, 'cat', True]\n",
      "After append method: bacon = [3.14, 'cat', 11, 'cat', True, 99]\n"
     ]
    }
   ],
   "source": [
    "# Ans.\n",
    "bacon = [3.14, 'cat', 11, 'cat', True]\n",
    "print(f\"bacon = {bacon}\")\n",
    "bacon.append(99)\n",
    "# append method add new elements to the end of the list\n",
    "print(f\"After append method: bacon = {bacon}\")"
   ]
  },
  {
   "cell_type": "markdown",
   "id": "29124e38",
   "metadata": {},
   "source": [
    "8. How does bacon.remove('cat') change the look of thr list value in bacon?"
   ]
  },
  {
   "cell_type": "code",
   "execution_count": 22,
   "id": "c07904b4",
   "metadata": {},
   "outputs": [
    {
     "name": "stdout",
     "output_type": "stream",
     "text": [
      "bacon= [3.14, 'cat', 11, 'cat', True]\n",
      "bacon after remove method: bacon = [3.14, 11, 'cat', True]\n"
     ]
    }
   ],
   "source": [
    "# Ans.\n",
    "bacon = [3.14, 'cat', 11, 'cat', True]\n",
    "print(f\"bacon= {bacon}\")\n",
    "bacon.remove('cat')\n",
    "# remove method removes the first occurence of the element in the list\n",
    "print(f\"bacon after remove method: bacon = {bacon}\")"
   ]
  },
  {
   "cell_type": "markdown",
   "id": "c2186811",
   "metadata": {},
   "source": [
    "9. What are the list concatenation and list replication operators?"
   ]
  },
  {
   "cell_type": "markdown",
   "id": "c9522640",
   "metadata": {},
   "source": [
    "Ans. The operators of list concatenation is '+' and the operator of list replication is ' * ' ."
   ]
  },
  {
   "cell_type": "code",
   "execution_count": 28,
   "id": "281172de",
   "metadata": {},
   "outputs": [
    {
     "name": "stdout",
     "output_type": "stream",
     "text": [
      "list concatenation i.e list_1 + list_2 is ['a', 'b', 'c', 'd', 'e', 'f', 'g']\n",
      "list replication i.e list_1 *2 is ['a', 'b', 'c', 'd', 'a', 'b', 'c', 'd']\n"
     ]
    }
   ],
   "source": [
    "# Example\n",
    "list_1 = ['a', 'b','c','d']\n",
    "\n",
    "list_2 = ['e','f','g']\n",
    "\n",
    "print(f\"list concatenation i.e list_1 + list_2 is {list_1 + list_2}\")\n",
    "\n",
    "print(f\"list replication i.e list_1 *2 is {list_1 *2}\")"
   ]
  },
  {
   "cell_type": "markdown",
   "id": "498ae22f",
   "metadata": {},
   "source": [
    "10. What is the difference between the list methods append() and insert()?"
   ]
  },
  {
   "cell_type": "markdown",
   "id": "a771d72c",
   "metadata": {},
   "source": [
    "Ans. Append method add new elements to the end of the list while insert method add the new value to the desired index in the list. "
   ]
  },
  {
   "cell_type": "code",
   "execution_count": 35,
   "id": "cc48b7e9",
   "metadata": {},
   "outputs": [
    {
     "name": "stdout",
     "output_type": "stream",
     "text": [
      "list_a = [11, 12, 13, 14, 15]\n",
      "After append method: list_a = [11, 12, 13, 14, 15, 16]\n",
      "list_i = ['a', 'c', 'd']\n",
      "After insert method: list_i = ['a', 'b', 'c', 'd']\n"
     ]
    }
   ],
   "source": [
    "list_a = [11,12,13,14,15]\n",
    "print(f\"list_a = {list_a}\")\n",
    "\n",
    "list_a.append(16)\n",
    "print(f\"After append method: list_a = {list_a}\")\n",
    "\n",
    "list_i = ['a', 'c','d']\n",
    "print(f\"list_i = {list_i}\")\n",
    "\n",
    "list_i.insert(1,'b')\n",
    "print(f\"After insert method: list_i = {list_i}\")"
   ]
  },
  {
   "cell_type": "markdown",
   "id": "7245c0ae",
   "metadata": {},
   "source": [
    "11. What are the two methods for removing items from a  list?"
   ]
  },
  {
   "cell_type": "markdown",
   "id": "14e49f1e",
   "metadata": {},
   "source": [
    "Ans. The 'del' statement and 'remove()' method are two ways to remove values from a list."
   ]
  },
  {
   "cell_type": "markdown",
   "id": "e89401d6",
   "metadata": {},
   "source": [
    "12. Describe how list values and string values are identical."
   ]
  },
  {
   "cell_type": "markdown",
   "id": "51098343",
   "metadata": {},
   "source": [
    "Ans. Both lists and strings can be passed to 'len()' function, have indexes and slices, be used in ''for' loops, be concatenated or replicated and be used with the 'in' and 'not in' operators."
   ]
  },
  {
   "cell_type": "markdown",
   "id": "f26e707e",
   "metadata": {},
   "source": [
    "13. What's the difference between tuples and lists?"
   ]
  },
  {
   "cell_type": "markdown",
   "id": "05985be5",
   "metadata": {},
   "source": [
    "Ans. \n",
    "\n",
    "Lists are 'mutable', 'indexable' and 'slicable'. The list values can be added, removed or changed. Lists are represented using square brackets [ ]. \n",
    "\n",
    "Tuples are 'immutable', 'indexable' and 'slicable'. The tuple values cannot be changed at all. Tuples are represented using parentheses (). "
   ]
  },
  {
   "cell_type": "markdown",
   "id": "e933e98c",
   "metadata": {},
   "source": [
    "14. How do you type a tuple value that only contains the integer 42?"
   ]
  },
  {
   "cell_type": "code",
   "execution_count": 44,
   "id": "8a677ea9",
   "metadata": {},
   "outputs": [
    {
     "name": "stdout",
     "output_type": "stream",
     "text": [
      "tup1=42\n",
      "The type of tup1 is\n",
      "<class 'int'>\n",
      "tup2=(42,)\n",
      "The type of tup2 is\n",
      "<class 'tuple'>\n"
     ]
    }
   ],
   "source": [
    "# Ans.\n",
    "tup1=(42)\n",
    "print(f\"tup1={tup1}\")\n",
    "print(\"The type of tup1 is\") \n",
    "print(type(tup1))\n",
    "\n",
    "tup2=(42,)\n",
    "# (42,) The trailing comma is mandatory. otherwise its considered as a int by python interpreter\n",
    "print(f\"tup2={tup2}\")\n",
    "print(\"The type of tup2 is\")\n",
    "print(type(tup2))"
   ]
  },
  {
   "cell_type": "markdown",
   "id": "c82db109",
   "metadata": {},
   "source": [
    "15. how do you get a list value's tuple form? How do you get a tuple value's list form? "
   ]
  },
  {
   "cell_type": "markdown",
   "id": "bdecce09",
   "metadata": {},
   "source": [
    "Ans. The 'tuple()' and 'list()' functions, are used to convert list to tuple and tuple to list resp."
   ]
  },
  {
   "cell_type": "markdown",
   "id": "bcaf5fc7",
   "metadata": {},
   "source": [
    "16. Variable that \"contain\" list values are not necessarily lists themselves. Instead, what do they contain?"
   ]
  },
  {
   "cell_type": "markdown",
   "id": "8996c381",
   "metadata": {},
   "source": [
    "Ans. They contain references to list values."
   ]
  },
  {
   "cell_type": "markdown",
   "id": "9d6d59c5",
   "metadata": {},
   "source": [
    "17. How do you distinguish between copy.copy() and copy.deepcopy()?"
   ]
  },
  {
   "cell_type": "markdown",
   "id": "a841c134",
   "metadata": {},
   "source": [
    "Ans. \n",
    "'copy.copy()' function will do a shallow copy of list\n",
    "\n",
    "'copy.deepcopy()' function will do a deep copy of list i.e. 'copy.deepcopy()' will duplicate any lists inside the list"
   ]
  }
 ],
 "metadata": {
  "kernelspec": {
   "display_name": "Python 3 (ipykernel)",
   "language": "python",
   "name": "python3"
  },
  "language_info": {
   "codemirror_mode": {
    "name": "ipython",
    "version": 3
   },
   "file_extension": ".py",
   "mimetype": "text/x-python",
   "name": "python",
   "nbconvert_exporter": "python",
   "pygments_lexer": "ipython3",
   "version": "3.9.12"
  }
 },
 "nbformat": 4,
 "nbformat_minor": 5
}
